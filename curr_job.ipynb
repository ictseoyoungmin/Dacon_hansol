{
 "cells": [
  {
   "attachments": {},
   "cell_type": "markdown",
   "id": "a2bcba5f-002e-4f49-9622-ada6117faf0a",
   "metadata": {},
   "source": [
    "### adaptive threshold - fail"
   ]
  },
  {
   "cell_type": "code",
   "execution_count": 1,
   "id": "2b0d9b68-7102-4eca-9543-3b9b8acafc6e",
   "metadata": {},
   "outputs": [
    {
     "data": {
      "text/plain": [
       "device(type='cuda')"
      ]
     },
     "execution_count": 1,
     "metadata": {},
     "output_type": "execute_result"
    }
   ],
   "source": [
    "import os\n",
    "os.environ['CUDA_LAUNCH_BLOCKING'] = \"1\"\n",
    "from pathlib import Path\n",
    "from datetime import datetime\n",
    "import random\n",
    "import pandas as pd\n",
    "import numpy as np\n",
    "import re\n",
    "import glob\n",
    "import cv2\n",
    "import PIL.Image as Image\n",
    "from collections import OrderedDict\n",
    "\n",
    "import torch\n",
    "import torch.nn as nn\n",
    "import torch.optim as optim\n",
    "import torch.nn.functional as F\n",
    "from torch.utils.data import Dataset, DataLoader, WeightedRandomSampler\n",
    "\n",
    "import albumentations as A\n",
    "from albumentations.pytorch.transforms import ToTensorV2\n",
    "import torchvision.models as models\n",
    "\n",
    "from sklearn.model_selection import train_test_split\n",
    "from sklearn import preprocessing\n",
    "from sklearn.metrics import f1_score\n",
    "from sklearn.metrics import classification_report\n",
    "from tqdm.auto import tqdm\n",
    "\n",
    "from dev.devlib import *\n",
    "import matplotlib.pyplot as plt\n",
    "\n",
    "import warnings\n",
    "warnings.filterwarnings(action='ignore') \n",
    "device = torch.device('cuda') if torch.cuda.is_available() else torch.device('cpu')\n",
    "device"
   ]
  },
  {
   "cell_type": "markdown",
   "id": "fc7df3f2-62d0-4499-a46e-47d01699def0",
   "metadata": {},
   "source": [
    "## Hyperparameter Setting"
   ]
  },
  {
   "cell_type": "code",
   "execution_count": 3,
   "id": "c3367399-9798-4e38-967b-fd2320b9a2b2",
   "metadata": {},
   "outputs": [],
   "source": [
    "CFG = {\n",
    "    'MODEL_NAME':'ConvNext',\n",
    "    'DATA_PATH':Path(r'F:\\datasets\\dacon\\hansol'),\n",
    "    'IMG_SIZE':224,\n",
    "    'EPOCHS':10,\n",
    "    'LEARNING_RATE':3e-3,\n",
    "    'BATCH_SIZE':16,\n",
    "    'SEED':41\n",
    "}\n",
    "train_path =CFG['DATA_PATH'] / 'train'\n",
    "test_path = CFG['DATA_PATH'] / 'test'"
   ]
  },
  {
   "cell_type": "markdown",
   "id": "4254e860-ff82-43ba-bfa3-fcee4eb3ddbd",
   "metadata": {},
   "source": [
    "## Fixed RandomSeed"
   ]
  },
  {
   "cell_type": "code",
   "execution_count": 4,
   "id": "101a714b-71b6-4475-a4ce-fa5f98bc2731",
   "metadata": {},
   "outputs": [],
   "source": [
    "def seed_everything(seed):\n",
    "    random.seed(seed)\n",
    "    os.environ['PYTHONHASHSEED'] = str(seed)\n",
    "    np.random.seed(seed)\n",
    "    torch.manual_seed(seed)\n",
    "    torch.cuda.manual_seed(seed)\n",
    "    torch.backends.cudnn.deterministic = True\n",
    "    torch.backends.cudnn.benchmark = True\n",
    "\n",
    "seed_everything(CFG['SEED']) # Seed 고정"
   ]
  },
  {
   "cell_type": "code",
   "execution_count": 5,
   "id": "a5cc17bf",
   "metadata": {},
   "outputs": [],
   "source": [
    "def rename_folder():\n",
    "    \"\"\"\n",
    "    한글 폴더 명 0~n_classes 변경\n",
    "    \"\"\"\n",
    "    folder_dict ={id:label for id,label in enumerate(os.listdir(train_path))}\n",
    "    os.chdir(train_path)\n",
    "    for old_folder_name in os.listdir(train_path):\n",
    "        if old_folder_name in folder_dict.values():\n",
    "            new_folder_name = str(list(folder_dict.keys())[list(folder_dict.values()).index(old_folder_name)])\n",
    "            # print(old_folder_name,new_folder_name)\n",
    "            os.rename(old_folder_name, new_folder_name)\n",
    "folder_dict = {0: '가구수정',\n",
    "               1: '걸레받이수정',\n",
    "               2: '곰팡이',\n",
    "               3: '꼬임',\n",
    "               4: '녹오염',\n",
    "               5: '들뜸',\n",
    "               6: '면불량',\n",
    "               7: '몰딩수정',\n",
    "               8: '반점',\n",
    "               9: '석고수정',\n",
    "               10: '오염',\n",
    "               11: '오타공',\n",
    "               12: '울음',\n",
    "               13: '이음부불량',\n",
    "               14: '창틀,문틀수정',\n",
    "               15: '터짐',\n",
    "               16: '틈새과다',\n",
    "               17: '피스',\n",
    "               18: '훼손'}"
   ]
  },
  {
   "cell_type": "markdown",
   "id": "05a4172e-5791-446f-9616-35c09d8bf25a",
   "metadata": {},
   "source": [
    "## Data Pre-processing"
   ]
  },
  {
   "cell_type": "code",
   "execution_count": 6,
   "id": "a62c78cd-4f40-4e98-b8a6-1b6f1d906b4d",
   "metadata": {},
   "outputs": [],
   "source": [
    "# './train/*/*'\n",
    "all_img_list = glob.glob(str(CFG['DATA_PATH'] / 'train/*/*'))\n",
    "df = pd.DataFrame(columns=['img_path', 'label'])\n",
    "df['img_path'] = all_img_list\n",
    "df['label'] = df['img_path'].apply(lambda x : str(x).split('\\\\')[-2])\n",
    "### binary 18 / 0~17\n",
    "df['label'] = df['label'].apply(lambda x : '0' if int(x)!=18 else '1')\n",
    "\n",
    "train_df, val, _, _ = train_test_split(df, df['label'], test_size=0.1, stratify=df['label'], random_state=CFG['SEED'])"
   ]
  },
  {
   "cell_type": "markdown",
   "id": "ac27ed36-8031-47a7-bd0d-a913513f2e8e",
   "metadata": {},
   "source": [
    "## CustomDataset"
   ]
  },
  {
   "cell_type": "code",
   "execution_count": 7,
   "id": "df042c1a",
   "metadata": {},
   "outputs": [],
   "source": [
    "class TDataset(Dataset):\n",
    "    def __init__(self, img_path_list, label_list, transforms=None):\n",
    "        self.img_path_list = img_path_list\n",
    "        self.label_list = [int(l) for l in label_list] if label_list is not None else None\n",
    "        self.transforms = transforms\n",
    "        self.feature = []\n",
    "\n",
    "        for img_path in tqdm(self.img_path_list):\n",
    "            image = cv2.imread(img_path,cv2.IMREAD_GRAYSCALE)\n",
    "            if self.transforms is not None:\n",
    "                image = self.transforms(image=image)['image']\n",
    "            else:\n",
    "                image = cv2.resize(image,(224,224),interpolation=cv2.INTER_NEAREST)/255.\n",
    "            self.feature.append(image)\n",
    "\n",
    "    def __getitem__(self, index):\n",
    "        if self.label_list is not None:\n",
    "            return self.feature[index], self.label_list[index]\n",
    "        else:\n",
    "            return self.feature[index]\n",
    "        \n",
    "    def __len__(self):\n",
    "        return len(self.img_path_list)"
   ]
  },
  {
   "cell_type": "code",
   "execution_count": 8,
   "id": "340b4a8b-5d6c-413f-b8b6-066e91a660e5",
   "metadata": {},
   "outputs": [],
   "source": [
    "train_transform = A.Compose([\n",
    "                            A.Resize(CFG['IMG_SIZE'],CFG['IMG_SIZE']),\n",
    "                            A.Normalize(mean=(0.5), std=(0.5), max_pixel_value=255.0, always_apply=False, p=1.0),\n",
    "                            ToTensorV2()\n",
    "                            ])\n",
    "\n",
    "test_transform = A.Compose([\n",
    "                            A.Resize(CFG['IMG_SIZE'],CFG['IMG_SIZE']),\n",
    "                            A.Normalize(mean=(0.5), std=(0.5), max_pixel_value=255.0, always_apply=False, p=1.0),\n",
    "                            ToTensorV2()\n",
    "                            ])"
   ]
  },
  {
   "cell_type": "code",
   "execution_count": 9,
   "id": "2e34168e",
   "metadata": {},
   "outputs": [
    {
     "name": "stderr",
     "output_type": "stream",
     "text": [
      "100%|██████████| 3111/3111 [00:34<00:00, 89.67it/s]\n",
      "100%|██████████| 346/346 [00:03<00:00, 90.81it/s]\n"
     ]
    }
   ],
   "source": [
    "from dev.devlib import TDataset, transform_adaptive_th\n",
    "\n",
    "train_dataset = TDataset(train_df['img_path'].values, train_df['label'].values, train_transform)\n",
    "train_loader = DataLoader(train_dataset, batch_size = CFG['BATCH_SIZE'], shuffle=True, num_workers=0)\n",
    "\n",
    "val_dataset = TDataset(val['img_path'].values, val['label'].values, test_transform)\n",
    "val_loader = DataLoader(val_dataset, batch_size=CFG['BATCH_SIZE'], shuffle=False, num_workers=0)"
   ]
  },
  {
   "attachments": {},
   "cell_type": "markdown",
   "id": "08afdb8d",
   "metadata": {},
   "source": [
    "### model define"
   ]
  },
  {
   "cell_type": "code",
   "execution_count": 10,
   "id": "3664c4d0-f1f2-4971-9090-4d6ee66309ae",
   "metadata": {},
   "outputs": [],
   "source": [
    "class ConvNeXt(nn.Module):\n",
    "    def __init__(self, num_classes=19):\n",
    "        super(ConvNeXt, self).__init__()\n",
    "        self.model = models.convnext_base(weights=models.convnext.ConvNeXt_Base_Weights.IMAGENET1K_V1)\n",
    "        # self.model = models.efficientnet_b0(weights=models.efficientnet.EfficientNet_B0_Weights.IMAGENET1K_V1)\n",
    "        self.model.classifier[2] = nn.Linear(in_features=self.model.classifier[2].in_features, out_features=num_classes)\n",
    "        # input dim == 0\n",
    "        self.model.features[0][0] = nn.Conv2d(1, 128, kernel_size=(4, 4), stride=(4, 4))\n",
    "        \n",
    "        # for param in self.model.parameters():\n",
    "        #     param.requires_grad = False\n",
    "\n",
    "        # for param in self.model.classifier.parameters():\n",
    "        #     param.requires_grad = True\n",
    "\n",
    "        self.model.features[0][0].requires_grad_(True)\n",
    "\n",
    "    def forward(self,x):\n",
    "        x = self.model(x)\n",
    "        return x\n",
    "        \n",
    "class Ringed_Res_Net(nn.Module):\n",
    "    def __init__(self,in_ch=1,n_classes=19,bb_grad_=False):\n",
    "        super().__init__()\n",
    "        backbone = Ringed_Res_Unet(in_ch,10)\n",
    "        backbone.load_state_dict(torch.load('./INTERRUPTED.pth',map_location='cpu'))\n",
    "        self.encoder = nn.Sequential(OrderedDict([(n,m) for n,m in backbone.named_children()][:5]))\n",
    "        self.encoder.requires_grad_(True)\n",
    "        self.down = RRU_down(256,256)\n",
    "        self.classifier = nn.Sequential(\n",
    "                            nn.Linear(256*7*7,256,bias=False),\n",
    "                            nn.ReLU(inplace=True),\n",
    "                            nn.Dropout(p=0.4),\n",
    "                            nn.Linear(256, n_classes,bias=False)\n",
    "                            )\n",
    "\n",
    "    def forward(self,x):\n",
    "        x = self.encoder(x)\n",
    "        x = self.down(x)\n",
    "        x = x.view(-1,256*7*7)\n",
    "        x = self.classifier(x)\n",
    "        return x"
   ]
  },
  {
   "cell_type": "code",
   "execution_count": 27,
   "id": "bb41a95d",
   "metadata": {},
   "outputs": [
    {
     "data": {
      "text/plain": [
       "tensor([1, 0, 0, 0, 0, 0, 1, 0, 1, 1, 0, 0, 1, 0, 0, 0])"
      ]
     },
     "execution_count": 27,
     "metadata": {},
     "output_type": "execute_result"
    }
   ],
   "source": [
    "iter(train_loader).__next__()[1]"
   ]
  },
  {
   "cell_type": "markdown",
   "id": "122af0aa-a1fd-4595-9488-35761e3cb596",
   "metadata": {},
   "source": [
    "## Train"
   ]
  },
  {
   "cell_type": "code",
   "execution_count": 11,
   "id": "a17df6b3-16c9-44dd-b0fd-ffb501fee749",
   "metadata": {},
   "outputs": [],
   "source": [
    "def train(model, optimizer, train_loader, val_loader, scheduler, device):\n",
    "    model.to(device)\n",
    "    criterion = nn.CrossEntropyLoss().to(device)\n",
    "    \n",
    "    best_score = 0\n",
    "    best_model = None\n",
    "    \n",
    "    for epoch in range(1, CFG['EPOCHS']+1):\n",
    "        model.train()\n",
    "        train_loss = []\n",
    "        for imgs, labels in tqdm(train_loader):\n",
    "            imgs = imgs.float().to(device)\n",
    "            labels = labels.to(device)\n",
    "            \n",
    "            optimizer.zero_grad()\n",
    "            \n",
    "            output = model(imgs)\n",
    "            loss = criterion(output, labels)\n",
    "            \n",
    "            loss.backward()\n",
    "            optimizer.step()\n",
    "            \n",
    "            train_loss.append(loss.item())\n",
    "                    \n",
    "        _val_loss, _val_score = validation(model, criterion, val_loader, device)\n",
    "        _train_loss = np.mean(train_loss)\n",
    "        print(f'Epoch [{epoch}], Train Loss : [{_train_loss:.5f}] Val Loss : [{_val_loss:.5f}] Val Weighted F1 Score : [{_val_score:.5f}]')\n",
    "       \n",
    "        if scheduler is not None:\n",
    "            scheduler.step(_val_score)\n",
    "            \n",
    "        if best_score < _val_score:\n",
    "            best_score = _val_score\n",
    "            best_model = model\n",
    "    \n",
    "    return best_model"
   ]
  },
  {
   "cell_type": "code",
   "execution_count": 12,
   "id": "96b1c524-89fb-4ce8-a49f-067fd489f84a",
   "metadata": {},
   "outputs": [],
   "source": [
    "def validation(model, criterion, val_loader, device,return_lists=False):\n",
    "    model.eval()\n",
    "    val_loss = []\n",
    "    preds, true_labels = [], []\n",
    "\n",
    "    with torch.no_grad():\n",
    "        for imgs, labels in tqdm(val_loader):\n",
    "            imgs = imgs.float().to(device)\n",
    "            labels = labels.to(device)\n",
    "            \n",
    "            pred = model(imgs)\n",
    "            \n",
    "            loss = criterion(pred, labels)\n",
    "            \n",
    "            preds += pred.argmax(1).detach().cpu().numpy().tolist()\n",
    "            true_labels += labels.detach().cpu().numpy().tolist()\n",
    "            \n",
    "            val_loss.append(loss.item())\n",
    "        \n",
    "        _val_loss = np.mean(val_loss)\n",
    "        _val_score = f1_score(true_labels, preds, average='weighted')\n",
    "    if return_lists:\n",
    "        return true_labels, preds\n",
    "    else:\n",
    "        return _val_loss, _val_score"
   ]
  },
  {
   "cell_type": "markdown",
   "id": "51da39f9-904f-4abd-a7d2-cdf29c4a6c24",
   "metadata": {},
   "source": [
    "## Run!!"
   ]
  },
  {
   "cell_type": "code",
   "execution_count": 13,
   "id": "86142d9a-68b7-4d04-8423-49d28025411d",
   "metadata": {
    "tags": []
   },
   "outputs": [
    {
     "name": "stderr",
     "output_type": "stream",
     "text": [
      "100%|██████████| 195/195 [09:02<00:00,  2.78s/it]\n",
      "100%|██████████| 22/22 [00:10<00:00,  2.14it/s]\n"
     ]
    },
    {
     "name": "stdout",
     "output_type": "stream",
     "text": [
      "Epoch [1], Train Loss : [0.71610] Val Loss : [0.68093] Val Weighted F1 Score : [0.44087]\n"
     ]
    },
    {
     "name": "stderr",
     "output_type": "stream",
     "text": [
      "100%|██████████| 195/195 [08:56<00:00,  2.75s/it]\n",
      "100%|██████████| 22/22 [00:11<00:00,  1.87it/s]\n"
     ]
    },
    {
     "name": "stdout",
     "output_type": "stream",
     "text": [
      "Epoch [2], Train Loss : [0.68294] Val Loss : [0.67658] Val Weighted F1 Score : [0.44087]\n"
     ]
    },
    {
     "name": "stderr",
     "output_type": "stream",
     "text": [
      "100%|██████████| 195/195 [08:56<00:00,  2.75s/it]\n",
      "100%|██████████| 22/22 [00:11<00:00,  1.88it/s]\n"
     ]
    },
    {
     "name": "stdout",
     "output_type": "stream",
     "text": [
      "Epoch [3], Train Loss : [0.67951] Val Loss : [0.67703] Val Weighted F1 Score : [0.44087]\n"
     ]
    },
    {
     "name": "stderr",
     "output_type": "stream",
     "text": [
      "100%|██████████| 195/195 [08:56<00:00,  2.75s/it]\n",
      "100%|██████████| 22/22 [00:11<00:00,  1.87it/s]\n"
     ]
    },
    {
     "name": "stdout",
     "output_type": "stream",
     "text": [
      "Epoch [4], Train Loss : [0.68030] Val Loss : [0.67892] Val Weighted F1 Score : [0.44087]\n",
      "Epoch 00004: reducing learning rate of group 0 to 1.5000e-03.\n"
     ]
    },
    {
     "name": "stderr",
     "output_type": "stream",
     "text": [
      "100%|██████████| 195/195 [08:53<00:00,  2.73s/it]\n",
      "100%|██████████| 22/22 [00:11<00:00,  1.89it/s]\n"
     ]
    },
    {
     "name": "stdout",
     "output_type": "stream",
     "text": [
      "Epoch [5], Train Loss : [0.67713] Val Loss : [0.67665] Val Weighted F1 Score : [0.44087]\n"
     ]
    },
    {
     "name": "stderr",
     "output_type": "stream",
     "text": [
      "100%|██████████| 195/195 [08:52<00:00,  2.73s/it]\n",
      "100%|██████████| 22/22 [00:11<00:00,  1.89it/s]\n"
     ]
    },
    {
     "name": "stdout",
     "output_type": "stream",
     "text": [
      "Epoch [6], Train Loss : [0.67623] Val Loss : [0.67678] Val Weighted F1 Score : [0.44087]\n"
     ]
    },
    {
     "name": "stderr",
     "output_type": "stream",
     "text": [
      "100%|██████████| 195/195 [08:52<00:00,  2.73s/it]\n",
      "100%|██████████| 22/22 [00:11<00:00,  1.90it/s]\n"
     ]
    },
    {
     "name": "stdout",
     "output_type": "stream",
     "text": [
      "Epoch [7], Train Loss : [0.67585] Val Loss : [0.68232] Val Weighted F1 Score : [0.44087]\n",
      "Epoch 00007: reducing learning rate of group 0 to 7.5000e-04.\n"
     ]
    },
    {
     "name": "stderr",
     "output_type": "stream",
     "text": [
      "100%|██████████| 195/195 [08:51<00:00,  2.73s/it]\n",
      "100%|██████████| 22/22 [00:11<00:00,  1.89it/s]\n"
     ]
    },
    {
     "name": "stdout",
     "output_type": "stream",
     "text": [
      "Epoch [8], Train Loss : [0.67632] Val Loss : [0.67670] Val Weighted F1 Score : [0.44087]\n"
     ]
    },
    {
     "name": "stderr",
     "output_type": "stream",
     "text": [
      "100%|██████████| 195/195 [08:52<00:00,  2.73s/it]\n",
      "100%|██████████| 22/22 [00:11<00:00,  1.89it/s]\n"
     ]
    },
    {
     "name": "stdout",
     "output_type": "stream",
     "text": [
      "Epoch [9], Train Loss : [0.67598] Val Loss : [0.67659] Val Weighted F1 Score : [0.44087]\n"
     ]
    },
    {
     "name": "stderr",
     "output_type": "stream",
     "text": [
      "100%|██████████| 195/195 [08:52<00:00,  2.73s/it]\n",
      "100%|██████████| 22/22 [00:11<00:00,  1.89it/s]"
     ]
    },
    {
     "name": "stdout",
     "output_type": "stream",
     "text": [
      "Epoch [10], Train Loss : [0.67602] Val Loss : [0.67663] Val Weighted F1 Score : [0.44087]\n",
      "Epoch 00010: reducing learning rate of group 0 to 3.7500e-04.\n"
     ]
    },
    {
     "name": "stderr",
     "output_type": "stream",
     "text": [
      "\n"
     ]
    }
   ],
   "source": [
    "BaseModel = ConvNeXt\n",
    "model = BaseModel(2)\n",
    "model.train()\n",
    "optimizer = torch.optim.Adam(params = model.parameters(), lr = CFG[\"LEARNING_RATE\"])\n",
    "scheduler = torch.optim.lr_scheduler.ReduceLROnPlateau(optimizer, mode='max', factor=0.5, patience=2, threshold_mode='abs', min_lr=1e-8, verbose=True)\n",
    "\n",
    "infer_model = train(model, optimizer, train_loader, val_loader, scheduler, device)"
   ]
  },
  {
   "cell_type": "code",
   "execution_count": 14,
   "id": "f39cbf2e",
   "metadata": {},
   "outputs": [
    {
     "name": "stderr",
     "output_type": "stream",
     "text": [
      "100%|██████████| 195/195 [09:05<00:00,  2.80s/it]\n",
      "100%|██████████| 22/22 [00:11<00:00,  1.84it/s]\n"
     ]
    },
    {
     "name": "stdout",
     "output_type": "stream",
     "text": [
      "Epoch [1], Train Loss : [0.67613] Val Loss : [0.67657] Val Weighted F1 Score : [0.44087]\n"
     ]
    },
    {
     "name": "stderr",
     "output_type": "stream",
     "text": [
      "100%|██████████| 195/195 [09:03<00:00,  2.79s/it]\n",
      "100%|██████████| 22/22 [00:11<00:00,  1.85it/s]\n"
     ]
    },
    {
     "name": "stdout",
     "output_type": "stream",
     "text": [
      "Epoch [2], Train Loss : [0.67566] Val Loss : [0.67653] Val Weighted F1 Score : [0.44087]\n"
     ]
    },
    {
     "name": "stderr",
     "output_type": "stream",
     "text": [
      "100%|██████████| 195/195 [09:03<00:00,  2.79s/it]\n",
      "100%|██████████| 22/22 [00:11<00:00,  1.85it/s]\n"
     ]
    },
    {
     "name": "stdout",
     "output_type": "stream",
     "text": [
      "Epoch [3], Train Loss : [0.67602] Val Loss : [0.67664] Val Weighted F1 Score : [0.44087]\n",
      "Epoch 00013: reducing learning rate of group 0 to 1.8750e-04.\n"
     ]
    },
    {
     "name": "stderr",
     "output_type": "stream",
     "text": [
      "100%|██████████| 195/195 [09:03<00:00,  2.79s/it]\n",
      "100%|██████████| 22/22 [00:11<00:00,  1.86it/s]\n"
     ]
    },
    {
     "name": "stdout",
     "output_type": "stream",
     "text": [
      "Epoch [4], Train Loss : [0.67607] Val Loss : [0.67656] Val Weighted F1 Score : [0.44087]\n"
     ]
    },
    {
     "name": "stderr",
     "output_type": "stream",
     "text": [
      "100%|██████████| 195/195 [09:04<00:00,  2.79s/it]\n",
      "100%|██████████| 22/22 [00:11<00:00,  1.85it/s]\n"
     ]
    },
    {
     "name": "stdout",
     "output_type": "stream",
     "text": [
      "Epoch [5], Train Loss : [0.67582] Val Loss : [0.67654] Val Weighted F1 Score : [0.44087]\n"
     ]
    },
    {
     "name": "stderr",
     "output_type": "stream",
     "text": [
      "100%|██████████| 195/195 [09:04<00:00,  2.79s/it]\n",
      "100%|██████████| 22/22 [00:11<00:00,  1.85it/s]\n"
     ]
    },
    {
     "name": "stdout",
     "output_type": "stream",
     "text": [
      "Epoch [6], Train Loss : [0.67512] Val Loss : [0.67654] Val Weighted F1 Score : [0.44087]\n",
      "Epoch 00016: reducing learning rate of group 0 to 9.3750e-05.\n"
     ]
    },
    {
     "name": "stderr",
     "output_type": "stream",
     "text": [
      "100%|██████████| 195/195 [09:03<00:00,  2.79s/it]\n",
      "100%|██████████| 22/22 [00:11<00:00,  1.86it/s]\n"
     ]
    },
    {
     "name": "stdout",
     "output_type": "stream",
     "text": [
      "Epoch [7], Train Loss : [0.67524] Val Loss : [0.67654] Val Weighted F1 Score : [0.44087]\n"
     ]
    },
    {
     "name": "stderr",
     "output_type": "stream",
     "text": [
      "100%|██████████| 195/195 [09:04<00:00,  2.79s/it]\n",
      "100%|██████████| 22/22 [00:11<00:00,  1.86it/s]\n"
     ]
    },
    {
     "name": "stdout",
     "output_type": "stream",
     "text": [
      "Epoch [8], Train Loss : [0.67553] Val Loss : [0.67653] Val Weighted F1 Score : [0.44087]\n"
     ]
    },
    {
     "name": "stderr",
     "output_type": "stream",
     "text": [
      "100%|██████████| 195/195 [09:03<00:00,  2.79s/it]\n",
      "100%|██████████| 22/22 [00:11<00:00,  1.86it/s]\n"
     ]
    },
    {
     "name": "stdout",
     "output_type": "stream",
     "text": [
      "Epoch [9], Train Loss : [0.67552] Val Loss : [0.67653] Val Weighted F1 Score : [0.44087]\n",
      "Epoch 00019: reducing learning rate of group 0 to 4.6875e-05.\n"
     ]
    },
    {
     "name": "stderr",
     "output_type": "stream",
     "text": [
      "100%|██████████| 195/195 [09:03<00:00,  2.78s/it]\n",
      "100%|██████████| 22/22 [00:11<00:00,  1.87it/s]"
     ]
    },
    {
     "name": "stdout",
     "output_type": "stream",
     "text": [
      "Epoch [10], Train Loss : [0.67567] Val Loss : [0.67653] Val Weighted F1 Score : [0.44087]\n"
     ]
    },
    {
     "name": "stderr",
     "output_type": "stream",
     "text": [
      "\n"
     ]
    }
   ],
   "source": [
    "infer_model = train(infer_model, optimizer, train_loader, val_loader, scheduler, device)"
   ]
  },
  {
   "cell_type": "code",
   "execution_count": 15,
   "id": "7dcdf18a",
   "metadata": {},
   "outputs": [
    {
     "name": "stderr",
     "output_type": "stream",
     "text": [
      "100%|██████████| 195/195 [08:38<00:00,  2.66s/it]\n",
      "100%|██████████| 22/22 [00:11<00:00,  1.98it/s]\n"
     ]
    },
    {
     "name": "stdout",
     "output_type": "stream",
     "text": [
      "Epoch [1], Train Loss : [0.67545] Val Loss : [0.67653] Val Weighted F1 Score : [0.44087]\n"
     ]
    },
    {
     "name": "stderr",
     "output_type": "stream",
     "text": [
      "100%|██████████| 195/195 [08:37<00:00,  2.65s/it]\n",
      "100%|██████████| 22/22 [00:11<00:00,  1.98it/s]\n"
     ]
    },
    {
     "name": "stdout",
     "output_type": "stream",
     "text": [
      "Epoch [2], Train Loss : [0.67615] Val Loss : [0.67653] Val Weighted F1 Score : [0.44087]\n",
      "Epoch 00022: reducing learning rate of group 0 to 2.3438e-05.\n"
     ]
    },
    {
     "name": "stderr",
     "output_type": "stream",
     "text": [
      "100%|██████████| 195/195 [08:38<00:00,  2.66s/it]\n",
      "100%|██████████| 22/22 [00:11<00:00,  1.97it/s]\n"
     ]
    },
    {
     "name": "stdout",
     "output_type": "stream",
     "text": [
      "Epoch [3], Train Loss : [0.67544] Val Loss : [0.67653] Val Weighted F1 Score : [0.44087]\n"
     ]
    },
    {
     "name": "stderr",
     "output_type": "stream",
     "text": [
      "100%|██████████| 195/195 [08:37<00:00,  2.66s/it]\n",
      "100%|██████████| 22/22 [00:11<00:00,  1.97it/s]\n"
     ]
    },
    {
     "name": "stdout",
     "output_type": "stream",
     "text": [
      "Epoch [4], Train Loss : [0.67523] Val Loss : [0.67653] Val Weighted F1 Score : [0.44087]\n"
     ]
    },
    {
     "name": "stderr",
     "output_type": "stream",
     "text": [
      "100%|██████████| 195/195 [08:37<00:00,  2.66s/it]\n",
      "100%|██████████| 22/22 [00:11<00:00,  1.98it/s]\n"
     ]
    },
    {
     "name": "stdout",
     "output_type": "stream",
     "text": [
      "Epoch [5], Train Loss : [0.67555] Val Loss : [0.67653] Val Weighted F1 Score : [0.44087]\n",
      "Epoch 00025: reducing learning rate of group 0 to 1.1719e-05.\n"
     ]
    },
    {
     "name": "stderr",
     "output_type": "stream",
     "text": [
      "100%|██████████| 195/195 [08:38<00:00,  2.66s/it]\n",
      "100%|██████████| 22/22 [00:11<00:00,  1.97it/s]\n"
     ]
    },
    {
     "name": "stdout",
     "output_type": "stream",
     "text": [
      "Epoch [6], Train Loss : [0.67550] Val Loss : [0.67653] Val Weighted F1 Score : [0.44087]\n"
     ]
    },
    {
     "name": "stderr",
     "output_type": "stream",
     "text": [
      "100%|██████████| 195/195 [08:37<00:00,  2.65s/it]\n",
      "100%|██████████| 22/22 [00:11<00:00,  1.97it/s]\n"
     ]
    },
    {
     "name": "stdout",
     "output_type": "stream",
     "text": [
      "Epoch [7], Train Loss : [0.67551] Val Loss : [0.67653] Val Weighted F1 Score : [0.44087]\n"
     ]
    },
    {
     "name": "stderr",
     "output_type": "stream",
     "text": [
      "100%|██████████| 195/195 [08:38<00:00,  2.66s/it]\n",
      "100%|██████████| 22/22 [00:11<00:00,  1.96it/s]\n"
     ]
    },
    {
     "name": "stdout",
     "output_type": "stream",
     "text": [
      "Epoch [8], Train Loss : [0.67569] Val Loss : [0.67653] Val Weighted F1 Score : [0.44087]\n",
      "Epoch 00028: reducing learning rate of group 0 to 5.8594e-06.\n"
     ]
    },
    {
     "name": "stderr",
     "output_type": "stream",
     "text": [
      "100%|██████████| 195/195 [08:37<00:00,  2.66s/it]\n",
      "100%|██████████| 22/22 [00:11<00:00,  1.97it/s]\n"
     ]
    },
    {
     "name": "stdout",
     "output_type": "stream",
     "text": [
      "Epoch [9], Train Loss : [0.67569] Val Loss : [0.67653] Val Weighted F1 Score : [0.44087]\n"
     ]
    },
    {
     "name": "stderr",
     "output_type": "stream",
     "text": [
      " 13%|█▎        | 26/195 [01:12<07:50,  2.78s/it]\n"
     ]
    },
    {
     "ename": "KeyboardInterrupt",
     "evalue": "",
     "output_type": "error",
     "traceback": [
      "\u001b[1;31m---------------------------------------------------------------------------\u001b[0m",
      "\u001b[1;31mKeyboardInterrupt\u001b[0m                         Traceback (most recent call last)",
      "Cell \u001b[1;32mIn[15], line 1\u001b[0m\n\u001b[1;32m----> 1\u001b[0m infer_model \u001b[39m=\u001b[39m train(infer_model, optimizer, train_loader, val_loader, scheduler, device)\n",
      "Cell \u001b[1;32mIn[11], line 20\u001b[0m, in \u001b[0;36mtrain\u001b[1;34m(model, optimizer, train_loader, val_loader, scheduler, device)\u001b[0m\n\u001b[0;32m     17\u001b[0m output \u001b[39m=\u001b[39m model(imgs)\n\u001b[0;32m     18\u001b[0m loss \u001b[39m=\u001b[39m criterion(output, labels)\n\u001b[1;32m---> 20\u001b[0m loss\u001b[39m.\u001b[39;49mbackward()\n\u001b[0;32m     21\u001b[0m optimizer\u001b[39m.\u001b[39mstep()\n\u001b[0;32m     23\u001b[0m train_loss\u001b[39m.\u001b[39mappend(loss\u001b[39m.\u001b[39mitem())\n",
      "File \u001b[1;32mc:\\Users\\zxcas\\anaconda3\\envs\\ml\\lib\\site-packages\\torch\\_tensor.py:488\u001b[0m, in \u001b[0;36mTensor.backward\u001b[1;34m(self, gradient, retain_graph, create_graph, inputs)\u001b[0m\n\u001b[0;32m    478\u001b[0m \u001b[39mif\u001b[39;00m has_torch_function_unary(\u001b[39mself\u001b[39m):\n\u001b[0;32m    479\u001b[0m     \u001b[39mreturn\u001b[39;00m handle_torch_function(\n\u001b[0;32m    480\u001b[0m         Tensor\u001b[39m.\u001b[39mbackward,\n\u001b[0;32m    481\u001b[0m         (\u001b[39mself\u001b[39m,),\n\u001b[1;32m   (...)\u001b[0m\n\u001b[0;32m    486\u001b[0m         inputs\u001b[39m=\u001b[39minputs,\n\u001b[0;32m    487\u001b[0m     )\n\u001b[1;32m--> 488\u001b[0m torch\u001b[39m.\u001b[39;49mautograd\u001b[39m.\u001b[39;49mbackward(\n\u001b[0;32m    489\u001b[0m     \u001b[39mself\u001b[39;49m, gradient, retain_graph, create_graph, inputs\u001b[39m=\u001b[39;49minputs\n\u001b[0;32m    490\u001b[0m )\n",
      "File \u001b[1;32mc:\\Users\\zxcas\\anaconda3\\envs\\ml\\lib\\site-packages\\torch\\autograd\\__init__.py:197\u001b[0m, in \u001b[0;36mbackward\u001b[1;34m(tensors, grad_tensors, retain_graph, create_graph, grad_variables, inputs)\u001b[0m\n\u001b[0;32m    192\u001b[0m     retain_graph \u001b[39m=\u001b[39m create_graph\n\u001b[0;32m    194\u001b[0m \u001b[39m# The reason we repeat same the comment below is that\u001b[39;00m\n\u001b[0;32m    195\u001b[0m \u001b[39m# some Python versions print out the first line of a multi-line function\u001b[39;00m\n\u001b[0;32m    196\u001b[0m \u001b[39m# calls in the traceback and some print out the last line\u001b[39;00m\n\u001b[1;32m--> 197\u001b[0m Variable\u001b[39m.\u001b[39;49m_execution_engine\u001b[39m.\u001b[39;49mrun_backward(  \u001b[39m# Calls into the C++ engine to run the backward pass\u001b[39;49;00m\n\u001b[0;32m    198\u001b[0m     tensors, grad_tensors_, retain_graph, create_graph, inputs,\n\u001b[0;32m    199\u001b[0m     allow_unreachable\u001b[39m=\u001b[39;49m\u001b[39mTrue\u001b[39;49;00m, accumulate_grad\u001b[39m=\u001b[39;49m\u001b[39mTrue\u001b[39;49;00m)\n",
      "\u001b[1;31mKeyboardInterrupt\u001b[0m: "
     ]
    }
   ],
   "source": [
    "infer_model = train(infer_model, optimizer, train_loader, val_loader, scheduler, device)"
   ]
  },
  {
   "cell_type": "code",
   "execution_count": 51,
   "id": "b37b2d02",
   "metadata": {},
   "outputs": [
    {
     "name": "stderr",
     "output_type": "stream",
     "text": [
      "100%|██████████| 195/195 [13:39<00:00,  4.20s/it]\n",
      "100%|██████████| 22/22 [01:20<00:00,  3.65s/it]\n"
     ]
    },
    {
     "name": "stdout",
     "output_type": "stream",
     "text": [
      "Epoch [1], Train Loss : [0.89778] Val Loss : [1.61185] Val Weighted F1 Score : [0.50795]\n",
      "Epoch 00031: reducing learning rate of group 0 to 1.8750e-04.\n"
     ]
    },
    {
     "name": "stderr",
     "output_type": "stream",
     "text": [
      "100%|██████████| 195/195 [13:31<00:00,  4.16s/it]\n",
      "100%|██████████| 22/22 [01:22<00:00,  3.77s/it]\n"
     ]
    },
    {
     "name": "stdout",
     "output_type": "stream",
     "text": [
      "Epoch [2], Train Loss : [0.82234] Val Loss : [1.66372] Val Weighted F1 Score : [0.49562]\n"
     ]
    },
    {
     "name": "stderr",
     "output_type": "stream",
     "text": [
      "100%|██████████| 195/195 [13:37<00:00,  4.19s/it]\n",
      "100%|██████████| 22/22 [01:23<00:00,  3.79s/it]\n"
     ]
    },
    {
     "name": "stdout",
     "output_type": "stream",
     "text": [
      "Epoch [3], Train Loss : [0.77143] Val Loss : [1.72409] Val Weighted F1 Score : [0.50793]\n"
     ]
    },
    {
     "name": "stderr",
     "output_type": "stream",
     "text": [
      "100%|██████████| 195/195 [13:33<00:00,  4.17s/it]\n",
      "100%|██████████| 22/22 [01:18<00:00,  3.56s/it]\n"
     ]
    },
    {
     "name": "stdout",
     "output_type": "stream",
     "text": [
      "Epoch [4], Train Loss : [0.78664] Val Loss : [1.69602] Val Weighted F1 Score : [0.51941]\n"
     ]
    },
    {
     "name": "stderr",
     "output_type": "stream",
     "text": [
      "100%|██████████| 195/195 [13:31<00:00,  4.16s/it]\n",
      "100%|██████████| 22/22 [01:22<00:00,  3.77s/it]\n"
     ]
    },
    {
     "name": "stdout",
     "output_type": "stream",
     "text": [
      "Epoch [5], Train Loss : [0.75941] Val Loss : [1.72089] Val Weighted F1 Score : [0.50362]\n"
     ]
    },
    {
     "name": "stderr",
     "output_type": "stream",
     "text": [
      "100%|██████████| 195/195 [13:30<00:00,  4.16s/it]\n",
      "100%|██████████| 22/22 [01:24<00:00,  3.83s/it]\n"
     ]
    },
    {
     "name": "stdout",
     "output_type": "stream",
     "text": [
      "Epoch [6], Train Loss : [0.73056] Val Loss : [1.75041] Val Weighted F1 Score : [0.50665]\n"
     ]
    },
    {
     "name": "stderr",
     "output_type": "stream",
     "text": [
      "100%|██████████| 195/195 [13:40<00:00,  4.21s/it]\n",
      "100%|██████████| 22/22 [01:22<00:00,  3.77s/it]\n"
     ]
    },
    {
     "name": "stdout",
     "output_type": "stream",
     "text": [
      "Epoch [7], Train Loss : [0.70729] Val Loss : [1.77089] Val Weighted F1 Score : [0.51357]\n",
      "Epoch 00037: reducing learning rate of group 0 to 9.3750e-05.\n"
     ]
    },
    {
     "name": "stderr",
     "output_type": "stream",
     "text": [
      "100%|██████████| 195/195 [13:37<00:00,  4.19s/it]\n",
      "100%|██████████| 22/22 [01:23<00:00,  3.78s/it]\n"
     ]
    },
    {
     "name": "stdout",
     "output_type": "stream",
     "text": [
      "Epoch [8], Train Loss : [0.68602] Val Loss : [1.81106] Val Weighted F1 Score : [0.50259]\n"
     ]
    },
    {
     "name": "stderr",
     "output_type": "stream",
     "text": [
      "100%|██████████| 195/195 [13:41<00:00,  4.21s/it]\n",
      "100%|██████████| 22/22 [01:23<00:00,  3.81s/it]\n"
     ]
    },
    {
     "name": "stdout",
     "output_type": "stream",
     "text": [
      "Epoch [9], Train Loss : [0.64946] Val Loss : [1.80546] Val Weighted F1 Score : [0.50085]\n"
     ]
    },
    {
     "name": "stderr",
     "output_type": "stream",
     "text": [
      "100%|██████████| 195/195 [13:43<00:00,  4.22s/it]\n",
      "100%|██████████| 22/22 [01:24<00:00,  3.83s/it]"
     ]
    },
    {
     "name": "stdout",
     "output_type": "stream",
     "text": [
      "Epoch [10], Train Loss : [0.65139] Val Loss : [1.81794] Val Weighted F1 Score : [0.50188]\n",
      "Epoch 00040: reducing learning rate of group 0 to 4.6875e-05.\n"
     ]
    },
    {
     "name": "stderr",
     "output_type": "stream",
     "text": [
      "\n"
     ]
    }
   ],
   "source": [
    "infer_model = train(infer_model, optimizer, train_loader, val_loader, scheduler, device)"
   ]
  },
  {
   "cell_type": "code",
   "execution_count": 52,
   "id": "7fd7de1f",
   "metadata": {},
   "outputs": [
    {
     "name": "stderr",
     "output_type": "stream",
     "text": [
      "100%|██████████| 195/195 [13:45<00:00,  4.23s/it]\n",
      "100%|██████████| 22/22 [01:23<00:00,  3.78s/it]\n"
     ]
    },
    {
     "name": "stdout",
     "output_type": "stream",
     "text": [
      "Epoch [1], Train Loss : [0.63028] Val Loss : [1.83081] Val Weighted F1 Score : [0.49909]\n"
     ]
    },
    {
     "name": "stderr",
     "output_type": "stream",
     "text": [
      "100%|██████████| 195/195 [13:38<00:00,  4.20s/it]\n",
      "100%|██████████| 22/22 [01:19<00:00,  3.59s/it]\n"
     ]
    },
    {
     "name": "stdout",
     "output_type": "stream",
     "text": [
      "Epoch [2], Train Loss : [0.64053] Val Loss : [1.86137] Val Weighted F1 Score : [0.50212]\n"
     ]
    },
    {
     "name": "stderr",
     "output_type": "stream",
     "text": [
      "100%|██████████| 195/195 [13:41<00:00,  4.21s/it]\n",
      "100%|██████████| 22/22 [01:23<00:00,  3.80s/it]\n"
     ]
    },
    {
     "name": "stdout",
     "output_type": "stream",
     "text": [
      "Epoch [3], Train Loss : [0.60322] Val Loss : [1.86439] Val Weighted F1 Score : [0.49942]\n",
      "Epoch 00043: reducing learning rate of group 0 to 2.3438e-05.\n"
     ]
    },
    {
     "name": "stderr",
     "output_type": "stream",
     "text": [
      "100%|██████████| 195/195 [13:37<00:00,  4.19s/it]\n",
      "100%|██████████| 22/22 [01:23<00:00,  3.78s/it]\n"
     ]
    },
    {
     "name": "stdout",
     "output_type": "stream",
     "text": [
      "Epoch [4], Train Loss : [0.60666] Val Loss : [1.88899] Val Weighted F1 Score : [0.50306]\n"
     ]
    },
    {
     "name": "stderr",
     "output_type": "stream",
     "text": [
      "100%|██████████| 195/195 [13:35<00:00,  4.18s/it]\n",
      "100%|██████████| 22/22 [01:22<00:00,  3.73s/it]\n"
     ]
    },
    {
     "name": "stdout",
     "output_type": "stream",
     "text": [
      "Epoch [5], Train Loss : [0.61687] Val Loss : [1.87660] Val Weighted F1 Score : [0.49768]\n"
     ]
    },
    {
     "name": "stderr",
     "output_type": "stream",
     "text": [
      "100%|██████████| 195/195 [13:33<00:00,  4.17s/it]\n",
      "100%|██████████| 22/22 [01:22<00:00,  3.73s/it]\n"
     ]
    },
    {
     "name": "stdout",
     "output_type": "stream",
     "text": [
      "Epoch [6], Train Loss : [0.60682] Val Loss : [1.89730] Val Weighted F1 Score : [0.50827]\n",
      "Epoch 00046: reducing learning rate of group 0 to 1.1719e-05.\n"
     ]
    },
    {
     "name": "stderr",
     "output_type": "stream",
     "text": [
      "100%|██████████| 195/195 [13:31<00:00,  4.16s/it]\n",
      "100%|██████████| 22/22 [01:22<00:00,  3.75s/it]\n"
     ]
    },
    {
     "name": "stdout",
     "output_type": "stream",
     "text": [
      "Epoch [7], Train Loss : [0.59342] Val Loss : [1.89559] Val Weighted F1 Score : [0.50822]\n"
     ]
    },
    {
     "name": "stderr",
     "output_type": "stream",
     "text": [
      "100%|██████████| 195/195 [13:31<00:00,  4.16s/it]\n",
      "100%|██████████| 22/22 [01:18<00:00,  3.58s/it]\n"
     ]
    },
    {
     "name": "stdout",
     "output_type": "stream",
     "text": [
      "Epoch [8], Train Loss : [0.59700] Val Loss : [1.91982] Val Weighted F1 Score : [0.50158]\n"
     ]
    },
    {
     "name": "stderr",
     "output_type": "stream",
     "text": [
      "100%|██████████| 195/195 [13:26<00:00,  4.13s/it]\n",
      "100%|██████████| 22/22 [01:22<00:00,  3.74s/it]\n"
     ]
    },
    {
     "name": "stdout",
     "output_type": "stream",
     "text": [
      "Epoch [9], Train Loss : [0.58591] Val Loss : [1.90541] Val Weighted F1 Score : [0.49573]\n",
      "Epoch 00049: reducing learning rate of group 0 to 5.8594e-06.\n"
     ]
    },
    {
     "name": "stderr",
     "output_type": "stream",
     "text": [
      "100%|██████████| 195/195 [13:33<00:00,  4.17s/it]\n",
      "100%|██████████| 22/22 [01:18<00:00,  3.56s/it]"
     ]
    },
    {
     "name": "stdout",
     "output_type": "stream",
     "text": [
      "Epoch [10], Train Loss : [0.59076] Val Loss : [1.90900] Val Weighted F1 Score : [0.49392]\n"
     ]
    },
    {
     "name": "stderr",
     "output_type": "stream",
     "text": [
      "\n"
     ]
    }
   ],
   "source": [
    "infer_model = train(infer_model, optimizer, train_loader, val_loader, scheduler, device)"
   ]
  },
  {
   "cell_type": "code",
   "execution_count": null,
   "id": "0bd23700",
   "metadata": {},
   "outputs": [
    {
     "data": {
      "application/vnd.jupyter.widget-view+json": {
       "model_id": "b40e35cc07304800a4eafe9fef31177a",
       "version_major": 2,
       "version_minor": 0
      },
      "text/plain": [
       "  0%|          | 0/152 [00:00<?, ?it/s]"
      ]
     },
     "metadata": {},
     "output_type": "display_data"
    },
    {
     "data": {
      "application/vnd.jupyter.widget-view+json": {
       "model_id": "019df8a28bd7408b99faeab5e05b38c1",
       "version_major": 2,
       "version_minor": 0
      },
      "text/plain": [
       "  0%|          | 0/65 [00:00<?, ?it/s]"
      ]
     },
     "metadata": {},
     "output_type": "display_data"
    },
    {
     "name": "stdout",
     "output_type": "stream",
     "text": [
      "Epoch [1], Train Loss : [0.37704] Val Loss : [0.85988] Val Weighted F1 Score : [0.70956]\n"
     ]
    },
    {
     "data": {
      "application/vnd.jupyter.widget-view+json": {
       "model_id": "b85e59e727a04a9896e30262fa9c7c86",
       "version_major": 2,
       "version_minor": 0
      },
      "text/plain": [
       "  0%|          | 0/152 [00:00<?, ?it/s]"
      ]
     },
     "metadata": {},
     "output_type": "display_data"
    },
    {
     "data": {
      "application/vnd.jupyter.widget-view+json": {
       "model_id": "6526aeb0f36b4fd2a7545e106336d591",
       "version_major": 2,
       "version_minor": 0
      },
      "text/plain": [
       "  0%|          | 0/65 [00:00<?, ?it/s]"
      ]
     },
     "metadata": {},
     "output_type": "display_data"
    },
    {
     "name": "stdout",
     "output_type": "stream",
     "text": [
      "Epoch [2], Train Loss : [0.36913] Val Loss : [0.85992] Val Weighted F1 Score : [0.70956]\n"
     ]
    },
    {
     "data": {
      "application/vnd.jupyter.widget-view+json": {
       "model_id": "232acee0b7024c1fa95d8e3945477005",
       "version_major": 2,
       "version_minor": 0
      },
      "text/plain": [
       "  0%|          | 0/152 [00:00<?, ?it/s]"
      ]
     },
     "metadata": {},
     "output_type": "display_data"
    },
    {
     "data": {
      "application/vnd.jupyter.widget-view+json": {
       "model_id": "79bc88f1f3a8459da7b79aa86469bd3f",
       "version_major": 2,
       "version_minor": 0
      },
      "text/plain": [
       "  0%|          | 0/65 [00:00<?, ?it/s]"
      ]
     },
     "metadata": {},
     "output_type": "display_data"
    },
    {
     "name": "stdout",
     "output_type": "stream",
     "text": [
      "Epoch [3], Train Loss : [0.37354] Val Loss : [0.85993] Val Weighted F1 Score : [0.70958]\n",
      "Epoch 00053: reducing learning rate of group 0 to 7.3242e-07.\n"
     ]
    },
    {
     "data": {
      "application/vnd.jupyter.widget-view+json": {
       "model_id": "33863aff6fd94475af118982864a5c54",
       "version_major": 2,
       "version_minor": 0
      },
      "text/plain": [
       "  0%|          | 0/152 [00:00<?, ?it/s]"
      ]
     },
     "metadata": {},
     "output_type": "display_data"
    },
    {
     "data": {
      "application/vnd.jupyter.widget-view+json": {
       "model_id": "8cfc09cd22cc44a48ff62013862ab5cb",
       "version_major": 2,
       "version_minor": 0
      },
      "text/plain": [
       "  0%|          | 0/65 [00:00<?, ?it/s]"
      ]
     },
     "metadata": {},
     "output_type": "display_data"
    },
    {
     "name": "stdout",
     "output_type": "stream",
     "text": [
      "Epoch [4], Train Loss : [0.36761] Val Loss : [0.85994] Val Weighted F1 Score : [0.70958]\n"
     ]
    },
    {
     "data": {
      "application/vnd.jupyter.widget-view+json": {
       "model_id": "3fcc898f6a8340ea9445c81d36643d5f",
       "version_major": 2,
       "version_minor": 0
      },
      "text/plain": [
       "  0%|          | 0/152 [00:00<?, ?it/s]"
      ]
     },
     "metadata": {},
     "output_type": "display_data"
    },
    {
     "data": {
      "application/vnd.jupyter.widget-view+json": {
       "model_id": "7991235f26474cd294895b21703e1c27",
       "version_major": 2,
       "version_minor": 0
      },
      "text/plain": [
       "  0%|          | 0/65 [00:00<?, ?it/s]"
      ]
     },
     "metadata": {},
     "output_type": "display_data"
    },
    {
     "name": "stdout",
     "output_type": "stream",
     "text": [
      "Epoch [5], Train Loss : [0.37060] Val Loss : [0.85998] Val Weighted F1 Score : [0.70958]\n"
     ]
    },
    {
     "data": {
      "application/vnd.jupyter.widget-view+json": {
       "model_id": "0b243c95df1b46ddb824350430341258",
       "version_major": 2,
       "version_minor": 0
      },
      "text/plain": [
       "  0%|          | 0/152 [00:00<?, ?it/s]"
      ]
     },
     "metadata": {},
     "output_type": "display_data"
    },
    {
     "data": {
      "application/vnd.jupyter.widget-view+json": {
       "model_id": "865291d521bb447390bb0f3ad19b61fe",
       "version_major": 2,
       "version_minor": 0
      },
      "text/plain": [
       "  0%|          | 0/65 [00:00<?, ?it/s]"
      ]
     },
     "metadata": {},
     "output_type": "display_data"
    },
    {
     "name": "stdout",
     "output_type": "stream",
     "text": [
      "Epoch [6], Train Loss : [0.37275] Val Loss : [0.86004] Val Weighted F1 Score : [0.70958]\n",
      "Epoch 00056: reducing learning rate of group 0 to 3.6621e-07.\n"
     ]
    },
    {
     "data": {
      "application/vnd.jupyter.widget-view+json": {
       "model_id": "5c3b845529354f32b77663f437e025c3",
       "version_major": 2,
       "version_minor": 0
      },
      "text/plain": [
       "  0%|          | 0/152 [00:00<?, ?it/s]"
      ]
     },
     "metadata": {},
     "output_type": "display_data"
    },
    {
     "data": {
      "application/vnd.jupyter.widget-view+json": {
       "model_id": "873b42f608aa4c26a16c92940eb0dafa",
       "version_major": 2,
       "version_minor": 0
      },
      "text/plain": [
       "  0%|          | 0/65 [00:00<?, ?it/s]"
      ]
     },
     "metadata": {},
     "output_type": "display_data"
    },
    {
     "name": "stdout",
     "output_type": "stream",
     "text": [
      "Epoch [7], Train Loss : [0.38258] Val Loss : [0.86005] Val Weighted F1 Score : [0.70958]\n"
     ]
    },
    {
     "data": {
      "application/vnd.jupyter.widget-view+json": {
       "model_id": "685cf57a7fc74948a5e9781c42778a96",
       "version_major": 2,
       "version_minor": 0
      },
      "text/plain": [
       "  0%|          | 0/152 [00:00<?, ?it/s]"
      ]
     },
     "metadata": {},
     "output_type": "display_data"
    },
    {
     "data": {
      "application/vnd.jupyter.widget-view+json": {
       "model_id": "3cfe14a1630a4f579b25e119fbaf3a25",
       "version_major": 2,
       "version_minor": 0
      },
      "text/plain": [
       "  0%|          | 0/65 [00:00<?, ?it/s]"
      ]
     },
     "metadata": {},
     "output_type": "display_data"
    },
    {
     "name": "stdout",
     "output_type": "stream",
     "text": [
      "Epoch [8], Train Loss : [0.36049] Val Loss : [0.86005] Val Weighted F1 Score : [0.70958]\n"
     ]
    },
    {
     "data": {
      "application/vnd.jupyter.widget-view+json": {
       "model_id": "3ca70284d3774cc89c8bd5a442ea1425",
       "version_major": 2,
       "version_minor": 0
      },
      "text/plain": [
       "  0%|          | 0/152 [00:00<?, ?it/s]"
      ]
     },
     "metadata": {},
     "output_type": "display_data"
    },
    {
     "data": {
      "application/vnd.jupyter.widget-view+json": {
       "model_id": "7d80bdad6fb04507b0228bbf82be351f",
       "version_major": 2,
       "version_minor": 0
      },
      "text/plain": [
       "  0%|          | 0/65 [00:00<?, ?it/s]"
      ]
     },
     "metadata": {},
     "output_type": "display_data"
    },
    {
     "name": "stdout",
     "output_type": "stream",
     "text": [
      "Epoch [9], Train Loss : [0.37857] Val Loss : [0.86006] Val Weighted F1 Score : [0.70958]\n",
      "Epoch 00059: reducing learning rate of group 0 to 1.8311e-07.\n"
     ]
    },
    {
     "data": {
      "application/vnd.jupyter.widget-view+json": {
       "model_id": "0c0541e4c3e8425786db924df64e409a",
       "version_major": 2,
       "version_minor": 0
      },
      "text/plain": [
       "  0%|          | 0/152 [00:00<?, ?it/s]"
      ]
     },
     "metadata": {},
     "output_type": "display_data"
    },
    {
     "data": {
      "application/vnd.jupyter.widget-view+json": {
       "model_id": "326a759b00974fdf997839328740f60d",
       "version_major": 2,
       "version_minor": 0
      },
      "text/plain": [
       "  0%|          | 0/65 [00:00<?, ?it/s]"
      ]
     },
     "metadata": {},
     "output_type": "display_data"
    },
    {
     "name": "stdout",
     "output_type": "stream",
     "text": [
      "Epoch [10], Train Loss : [0.38316] Val Loss : [0.86007] Val Weighted F1 Score : [0.70958]\n"
     ]
    }
   ],
   "source": [
    "infer_model = train(infer_model, optimizer, train_loader, val_loader, scheduler, device)"
   ]
  },
  {
   "cell_type": "code",
   "execution_count": 54,
   "id": "cd28e098",
   "metadata": {},
   "outputs": [
    {
     "name": "stderr",
     "output_type": "stream",
     "text": [
      "100%|██████████| 22/22 [01:23<00:00,  3.78s/it]\n"
     ]
    }
   ],
   "source": [
    "true_labels, preds = validation(infer_model, nn.CrossEntropyLoss(),val_loader, device,True)"
   ]
  },
  {
   "cell_type": "code",
   "execution_count": 55,
   "id": "d4c2a28a",
   "metadata": {},
   "outputs": [
    {
     "name": "stdout",
     "output_type": "stream",
     "text": [
      "              precision    recall  f1-score   support\n",
      "\n",
      "           0       0.00      0.00      0.00         1\n",
      "           1       0.56      0.58      0.57        31\n",
      "           2       0.50      0.20      0.29        15\n",
      "           3       0.70      0.90      0.79        21\n",
      "           4       0.00      0.00      0.00         1\n",
      "           5       1.00      0.40      0.57         5\n",
      "           6       0.00      0.00      0.00        10\n",
      "           7       0.18      0.15      0.17        13\n",
      "           9       0.00      0.00      0.00         6\n",
      "          10       0.34      0.32      0.33        60\n",
      "          11       0.62      0.71      0.67        14\n",
      "          12       0.00      0.00      0.00         2\n",
      "          13       0.00      0.00      0.00         2\n",
      "          14       0.00      0.00      0.00         3\n",
      "          15       0.73      0.50      0.59        16\n",
      "          17       0.00      0.00      0.00         5\n",
      "          18       0.56      0.72      0.63       141\n",
      "\n",
      "    accuracy                           0.53       346\n",
      "   macro avg       0.31      0.26      0.27       346\n",
      "weighted avg       0.48      0.53      0.49       346\n",
      "\n"
     ]
    }
   ],
   "source": [
    "print(classification_report(true_labels,preds))"
   ]
  },
  {
   "cell_type": "markdown",
   "id": "e275a486-9c59-4b4e-80f6-5000e017b921",
   "metadata": {},
   "source": [
    "## Inference"
   ]
  },
  {
   "cell_type": "code",
   "execution_count": 22,
   "id": "dbbf9ae5-9d8c-4800-a809-63094a1e9a24",
   "metadata": {},
   "outputs": [
    {
     "name": "stderr",
     "output_type": "stream",
     "text": [
      "100%|██████████| 792/792 [00:14<00:00, 54.65it/s]\n"
     ]
    }
   ],
   "source": [
    "test_dataset = TDataset([str(test_path / file) for file in os.listdir(test_path)], None, transform_adaptive_th)\n",
    "test_loader = DataLoader(test_dataset, batch_size=CFG['BATCH_SIZE'], shuffle=False, num_workers=0)"
   ]
  },
  {
   "cell_type": "code",
   "execution_count": 23,
   "id": "15e32b99",
   "metadata": {},
   "outputs": [],
   "source": [
    "def inverse_transform(preds):\n",
    "    return np.array([folder_dict[pred] for pred in preds])"
   ]
  },
  {
   "cell_type": "code",
   "execution_count": 24,
   "id": "378fd3a9-76d8-4c9a-81a1-c6a48492684c",
   "metadata": {},
   "outputs": [],
   "source": [
    "def inference(model, test_loader, device):\n",
    "    model.eval()\n",
    "    preds = []\n",
    "    with torch.no_grad():\n",
    "        for imgs in tqdm(iter(test_loader)):\n",
    "            imgs = imgs.float().to(device)\n",
    "            \n",
    "            pred = model(imgs)\n",
    "            \n",
    "            preds += pred.argmax(1).detach().cpu().numpy().tolist()\n",
    "    \n",
    "    preds = inverse_transform(preds)\n",
    "    return preds"
   ]
  },
  {
   "cell_type": "code",
   "execution_count": 25,
   "id": "2866935c-407d-4919-a58b-1f8feaa66a2a",
   "metadata": {},
   "outputs": [
    {
     "name": "stderr",
     "output_type": "stream",
     "text": [
      "100%|██████████| 50/50 [03:54<00:00,  4.69s/it]\n"
     ]
    }
   ],
   "source": [
    "preds = inference(infer_model, test_loader, device)"
   ]
  },
  {
   "cell_type": "markdown",
   "id": "35be0d25-6a06-43bb-bca0-94eda2409a26",
   "metadata": {},
   "source": [
    "## Submission"
   ]
  },
  {
   "cell_type": "code",
   "execution_count": 26,
   "id": "fc864be2-c306-4ad0-aa97-1d5ab5ea9811",
   "metadata": {},
   "outputs": [],
   "source": [
    "submit = pd.read_csv(CFG['DATA_PATH'] / 'sample_submission.csv')\n",
    "submit['label'] = preds"
   ]
  },
  {
   "cell_type": "code",
   "execution_count": 27,
   "id": "a472198d-6a2f-4d97-b45b-55031d6019a8",
   "metadata": {},
   "outputs": [],
   "source": [
    "current_datetime = datetime.now()\n",
    "formatted_datetime = current_datetime.strftime(\"%Y_%m_%d_%H_%M\")\n",
    "os.makedirs('./result',exist_ok=True)\n",
    "submit.to_csv(f'./result/{CFG[\"MODEL_NAME\"]}_{formatted_datetime}.csv', index=False)"
   ]
  },
  {
   "cell_type": "code",
   "execution_count": 28,
   "id": "0e3e0511-2ce0-4658-893f-0f3641c50bb8",
   "metadata": {},
   "outputs": [
    {
     "data": {
      "text/plain": [
       "<AxesSubplot: >"
      ]
     },
     "execution_count": 28,
     "metadata": {},
     "output_type": "execute_result"
    },
    {
     "data": {
      "image/png": "[encoded data removed]",
      "text/plain": [
       "<Figure size 640x480 with 1 Axes>"
      ]
     },
     "metadata": {},
     "output_type": "display_data"
    }
   ],
   "source": [
    "submit['label'].value_counts().plot(kind='bar')"
   ]
  },
  {
   "cell_type": "code",
   "execution_count": 29,
   "id": "60ef82d5",
   "metadata": {},
   "outputs": [],
   "source": [
    "# todo : convnext의 val값이 올라도 성능 저하 확인"
   ]
  },
  {
   "cell_type": "code",
   "execution_count": null,
   "id": "a9a72426",
   "metadata": {},
   "outputs": [],
   "source": []
  }
 ],
 "metadata": {
  "kernelspec": {
   "display_name": "ml",
   "language": "python",
   "name": "python3"
  },
  "language_info": {
   "codemirror_mode": {
    "name": "ipython",
    "version": 3
   },
   "file_extension": ".py",
   "mimetype": "text/x-python",
   "name": "python",
   "nbconvert_exporter": "python",
   "pygments_lexer": "ipython3",
   "version": "3.9.13"
  }
 },
 "nbformat": 4,
 "nbformat_minor": 5
}
